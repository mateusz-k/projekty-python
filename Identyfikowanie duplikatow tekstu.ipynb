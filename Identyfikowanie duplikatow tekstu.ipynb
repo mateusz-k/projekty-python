{
 "cells": [
  {
   "cell_type": "markdown",
   "metadata": {},
   "source": [
    "# Wyszukiwanie podobnych tekstów w tabeli rekordów (0.6m)"
   ]
  },
  {
   "cell_type": "markdown",
   "metadata": {},
   "source": [
    "### Wykorzystane :\n",
    "### - Pandas  https://en.wikipedia.org/wiki/Pandas_%28software%29\n",
    "### - Wektoryzacja TF/IDF  https://pl.wikipedia.org/wiki/TFIDF\n",
    "### - N-gramy https://pl.wikipedia.org/wiki/N-gram\n",
    "### - Cosine similarity jako miara odległości między wektorami https://en.wikipedia.org/wiki/Cosine_similarity\n"
   ]
  },
  {
   "cell_type": "markdown",
   "metadata": {},
   "source": [
    "Na podstawie \n",
    "\"Super Fast String Matching in Python\"\n",
    "https://bergvca.github.io/2017/10/14/super-fast-string-matching.html\n",
    "\n",
    "Funkcja sparse_dot_topn pisana w Cythonie, do lokalnej kompilacji\n",
    "https://github.com/ing-bank/sparse_dot_topn\n",
    "\n",
    "Tutaj tylko lokalny wrapper."
   ]
  },
  {
   "cell_type": "code",
   "execution_count": 1,
   "metadata": {
    "collapsed": false
   },
   "outputs": [
    {
     "name": "stdout",
     "output_type": "stream",
     "text": [
      "The shape: 663000 x 3\n"
     ]
    },
    {
     "data": {
      "text/html": [
       "<div>\n",
       "<style>\n",
       "    .dataframe thead tr:only-child th {\n",
       "        text-align: right;\n",
       "    }\n",
       "\n",
       "    .dataframe thead th {\n",
       "        text-align: left;\n",
       "    }\n",
       "\n",
       "    .dataframe tbody tr th {\n",
       "        vertical-align: top;\n",
       "    }\n",
       "</style>\n",
       "<table border=\"1\" class=\"dataframe\">\n",
       "  <thead>\n",
       "    <tr style=\"text-align: right;\">\n",
       "      <th></th>\n",
       "      <th>Line Number</th>\n",
       "      <th>Company Name</th>\n",
       "      <th>Company CIK Key</th>\n",
       "    </tr>\n",
       "  </thead>\n",
       "  <tbody>\n",
       "    <tr>\n",
       "      <th>0</th>\n",
       "      <td>1</td>\n",
       "      <td>!J INC</td>\n",
       "      <td>1438823</td>\n",
       "    </tr>\n",
       "    <tr>\n",
       "      <th>1</th>\n",
       "      <td>2</td>\n",
       "      <td>#1 A LIFESAFER HOLDINGS, INC.</td>\n",
       "      <td>1509607</td>\n",
       "    </tr>\n",
       "    <tr>\n",
       "      <th>2</th>\n",
       "      <td>3</td>\n",
       "      <td>#1 ARIZONA DISCOUNT PROPERTIES LLC</td>\n",
       "      <td>1457512</td>\n",
       "    </tr>\n",
       "    <tr>\n",
       "      <th>3</th>\n",
       "      <td>4</td>\n",
       "      <td>#1 PAINTBALL CORP</td>\n",
       "      <td>1433777</td>\n",
       "    </tr>\n",
       "    <tr>\n",
       "      <th>4</th>\n",
       "      <td>5</td>\n",
       "      <td>$ LLC</td>\n",
       "      <td>1427189</td>\n",
       "    </tr>\n",
       "  </tbody>\n",
       "</table>\n",
       "</div>"
      ],
      "text/plain": [
       "   Line Number                        Company Name  Company CIK Key\n",
       "0  1            !J INC                              1438823        \n",
       "1  2            #1 A LIFESAFER HOLDINGS, INC.       1509607        \n",
       "2  3            #1 ARIZONA DISCOUNT PROPERTIES LLC  1457512        \n",
       "3  4            #1 PAINTBALL CORP                   1433777        \n",
       "4  5            $ LLC                               1427189        "
      ]
     },
     "execution_count": 1,
     "metadata": {},
     "output_type": "execute_result"
    }
   ],
   "source": [
    "import pandas as pd\n",
    "\n",
    "pd.set_option('display.max_colwidth', -1)\n",
    "names =  pd.read_csv('data/sec__edgar_company_info.csv')\n",
    "print('The shape: %d x %d' % names.shape)\n",
    "names.head()"
   ]
  },
  {
   "cell_type": "code",
   "execution_count": 2,
   "metadata": {
    "collapsed": false
   },
   "outputs": [
    {
     "name": "stdout",
     "output_type": "stream",
     "text": [
      "All 3-grams in \"McDonalds\":\n"
     ]
    },
    {
     "data": {
      "text/plain": [
       "['McD', 'cDo', 'Don', 'ona', 'nal', 'ald', 'lds']"
      ]
     },
     "execution_count": 2,
     "metadata": {},
     "output_type": "execute_result"
    }
   ],
   "source": [
    "import re\n",
    "\n",
    "def ngrams(string, n=3):\n",
    "    string = re.sub(r'[ ,-./]|\\sBD', r'', string)\n",
    "    ngrams = zip(*[string[i:] for i in range(n)])\n",
    "    return [''.join(ngram) for ngram in ngrams]\n",
    "\n",
    "print('All 3-grams in \"McDonalds\":')\n",
    "ngrams('McDonalds')"
   ]
  },
  {
   "cell_type": "code",
   "execution_count": 3,
   "metadata": {
    "collapsed": true
   },
   "outputs": [],
   "source": [
    "from sklearn.feature_extraction.text import TfidfVectorizer"
   ]
  },
  {
   "cell_type": "code",
   "execution_count": 4,
   "metadata": {
    "collapsed": true
   },
   "outputs": [],
   "source": [
    "company_names=names['Company Name']\n",
    "vectorizer = TfidfVectorizer(min_df=1, analyzer=ngrams)\n",
    "tf_idf_matrix = vectorizer.fit_transform(company_names)"
   ]
  },
  {
   "cell_type": "code",
   "execution_count": 5,
   "metadata": {
    "collapsed": false
   },
   "outputs": [
    {
     "data": {
      "text/plain": [
       "(663000, 34860)"
      ]
     },
     "execution_count": 5,
     "metadata": {},
     "output_type": "execute_result"
    }
   ],
   "source": [
    "tf_idf_matrix.shape"
   ]
  },
  {
   "cell_type": "code",
   "execution_count": 6,
   "metadata": {
    "collapsed": false
   },
   "outputs": [
    {
     "name": "stdout",
     "output_type": "stream",
     "text": [
      "  (0, 12)\t0.843178066011\n",
      "  (0, 18655)\t0.513342599768\n",
      "  (0, 17933)\t0.159781489106\n"
     ]
    }
   ],
   "source": [
    "print(tf_idf_matrix[0])"
   ]
  },
  {
   "cell_type": "code",
   "execution_count": 7,
   "metadata": {
    "collapsed": false
   },
   "outputs": [
    {
     "name": "stdout",
     "output_type": "stream",
     "text": [
      "[     0 314941 315004 402247]\n",
      "[ 1.          0.32937889  0.32505872  0.31667197]\n"
     ]
    }
   ],
   "source": [
    "from sklearn.metrics.pairwise import linear_kernel\n",
    "cosine_similarities = linear_kernel(tf_idf_matrix[0:1], tf_idf_matrix).flatten()\n",
    "related_docs_indices = cosine_similarities.argsort()[:-5:-1].flatten()\n",
    "print(related_docs_indices)\n",
    "print(cosine_similarities[related_docs_indices])\n"
   ]
  },
  {
   "cell_type": "code",
   "execution_count": 8,
   "metadata": {
    "collapsed": false
   },
   "outputs": [
    {
     "data": {
      "text/html": [
       "<div>\n",
       "<style>\n",
       "    .dataframe thead tr:only-child th {\n",
       "        text-align: right;\n",
       "    }\n",
       "\n",
       "    .dataframe thead th {\n",
       "        text-align: left;\n",
       "    }\n",
       "\n",
       "    .dataframe tbody tr th {\n",
       "        vertical-align: top;\n",
       "    }\n",
       "</style>\n",
       "<table border=\"1\" class=\"dataframe\">\n",
       "  <thead>\n",
       "    <tr style=\"text-align: right;\">\n",
       "      <th></th>\n",
       "      <th>Line Number</th>\n",
       "      <th>Company Name</th>\n",
       "      <th>Company CIK Key</th>\n",
       "    </tr>\n",
       "  </thead>\n",
       "  <tbody>\n",
       "    <tr>\n",
       "      <th>0</th>\n",
       "      <td>1</td>\n",
       "      <td>!J INC</td>\n",
       "      <td>1438823</td>\n",
       "    </tr>\n",
       "    <tr>\n",
       "      <th>314941</th>\n",
       "      <td>314942</td>\n",
       "      <td>JIN LI</td>\n",
       "      <td>1566263</td>\n",
       "    </tr>\n",
       "    <tr>\n",
       "      <th>315004</th>\n",
       "      <td>315005</td>\n",
       "      <td>JINTI INC</td>\n",
       "      <td>1355948</td>\n",
       "    </tr>\n",
       "    <tr>\n",
       "      <th>402247</th>\n",
       "      <td>402248</td>\n",
       "      <td>MONJ, INC.</td>\n",
       "      <td>1695884</td>\n",
       "    </tr>\n",
       "  </tbody>\n",
       "</table>\n",
       "</div>"
      ],
      "text/plain": [
       "        Line Number Company Name  Company CIK Key\n",
       "0       1            !J INC       1438823        \n",
       "314941  314942       JIN LI       1566263        \n",
       "315004  315005       JINTI INC    1355948        \n",
       "402247  402248       MONJ, INC.   1695884        "
      ]
     },
     "execution_count": 8,
     "metadata": {},
     "output_type": "execute_result"
    }
   ],
   "source": [
    "names.loc[[0,314941,315004,402247]]"
   ]
  },
  {
   "cell_type": "code",
   "execution_count": 9,
   "metadata": {
    "collapsed": true
   },
   "outputs": [],
   "source": [
    "import numpy as np\n",
    "from scipy.sparse import csr_matrix\n",
    "import sparse_dot_topn.sparse_dot_topn as ct\n",
    "\n",
    "def awesome_cossim_top(A, B, ntop, lower_bound=0):\n",
    "    # force A and B as a CSR matrix.\n",
    "    # If they have already been CSR, there is no overhead\n",
    "    A = A.tocsr()\n",
    "    B = B.tocsr()\n",
    "    M, _ = A.shape\n",
    "    _, N = B.shape\n",
    " \n",
    "    idx_dtype = np.int32\n",
    " \n",
    "    nnz_max = M*ntopr\n",
    " \n",
    "    indptr = np.zeros(M+1, dtype=idx_dtype)\n",
    "    indices = np.zeros(nnz_max, dtype=idx_dtype)\n",
    "    data = np.zeros(nnz_max, dtype=A.dtype)\n",
    "\n",
    "    ct.sparse_dot_topn(\n",
    "        M, N, np.asarray(A.indptr, dtype=idx_dtype),\n",
    "        np.asarray(A.indices, dtype=idx_dtype),\n",
    "        A.data,\n",
    "        np.asarray(B.indptr, dtype=idx_dtype),\n",
    "        np.asarray(B.indices, dtype=idx_dtype),\n",
    "        B.data,\n",
    "        ntop,\n",
    "        lower_bound,\n",
    "        indptr, indices, data)\n",
    "\n",
    "    return csr_matrix((data,indices,indptr),shape=(M,N))"
   ]
  },
  {
   "cell_type": "code",
   "execution_count": 10,
   "metadata": {
    "collapsed": false
   },
   "outputs": [
    {
     "name": "stdout",
     "output_type": "stream",
     "text": [
      "SELFTIMED: 6830.938807249069\n"
     ]
    }
   ],
   "source": [
    "import time\n",
    "t1 = time.time()\n",
    "matches = awesome_cossim_top(tf_idf_matrix, tf_idf_matrix.transpose(), 10, 0.8)\n",
    "t = time.time()-t1\n",
    "print(\"SELFTIMED:\", t)\n"
   ]
  },
  {
   "cell_type": "code",
   "execution_count": 12,
   "metadata": {
    "collapsed": true
   },
   "outputs": [],
   "source": [
    "def get_matches_df(sparse_matrix, name_vector, top=100):\n",
    "    non_zeros = sparse_matrix.nonzero()\n",
    "    \n",
    "    sparserows = non_zeros[0]\n",
    "    sparsecols = non_zeros[1]\n",
    "    \n",
    "    if top:\n",
    "        nr_matches = top\n",
    "    else:\n",
    "        nr_matches = sparsecols.size\n",
    "    \n",
    "    left_side = np.empty([nr_matches], dtype=object)\n",
    "    right_side = np.empty([nr_matches], dtype=object)\n",
    "    similairity = np.zeros(nr_matches)\n",
    "    \n",
    "    for index in range(0, nr_matches):\n",
    "        left_side[index] = name_vector[sparserows[index]]\n",
    "        right_side[index] = name_vector[sparsecols[index]]\n",
    "        similairity[index] = sparse_matrix.data[index]\n",
    "    \n",
    "    return pd.DataFrame({'left_side': left_side,\n",
    "                          'right_side': right_side,\n",
    "                           'similairity': similairity})"
   ]
  },
  {
   "cell_type": "code",
   "execution_count": 14,
   "metadata": {
    "collapsed": false
   },
   "outputs": [
    {
     "data": {
      "text/html": [
       "<div>\n",
       "<style>\n",
       "    .dataframe thead tr:only-child th {\n",
       "        text-align: right;\n",
       "    }\n",
       "\n",
       "    .dataframe thead th {\n",
       "        text-align: left;\n",
       "    }\n",
       "\n",
       "    .dataframe tbody tr th {\n",
       "        vertical-align: top;\n",
       "    }\n",
       "</style>\n",
       "<table border=\"1\" class=\"dataframe\">\n",
       "  <thead>\n",
       "    <tr style=\"text-align: right;\">\n",
       "      <th></th>\n",
       "      <th>left_side</th>\n",
       "      <th>right_side</th>\n",
       "      <th>similairity</th>\n",
       "    </tr>\n",
       "  </thead>\n",
       "  <tbody>\n",
       "    <tr>\n",
       "      <th>15</th>\n",
       "      <td>0210, LLC</td>\n",
       "      <td>90210 LLC</td>\n",
       "      <td>0.853456</td>\n",
       "    </tr>\n",
       "    <tr>\n",
       "      <th>19</th>\n",
       "      <td>03 ENTERTAINMENT GROUP INC</td>\n",
       "      <td>O3 ENTERTAINMENT GROUP INC</td>\n",
       "      <td>0.810585</td>\n",
       "    </tr>\n",
       "    <tr>\n",
       "      <th>168</th>\n",
       "      <td>1 800 MUTUALS ADVISOR SERIES</td>\n",
       "      <td>1 800 MUTUALS ADVISORS SERIES</td>\n",
       "      <td>0.947396</td>\n",
       "    </tr>\n",
       "    <tr>\n",
       "      <th>170</th>\n",
       "      <td>1 800 MUTUALS ADVISORS SERIES</td>\n",
       "      <td>1 800 MUTUALS ADVISOR SERIES</td>\n",
       "      <td>0.947396</td>\n",
       "    </tr>\n",
       "    <tr>\n",
       "      <th>179</th>\n",
       "      <td>1 FINANCIAL MARKETPLACE SECURITIES LLC                  /BD</td>\n",
       "      <td>1 FINANCIAL MARKETPLACE SECURITIES, LLC</td>\n",
       "      <td>0.950700</td>\n",
       "    </tr>\n",
       "    <tr>\n",
       "      <th>181</th>\n",
       "      <td>1 FINANCIAL MARKETPLACE SECURITIES, LLC</td>\n",
       "      <td>1 FINANCIAL MARKETPLACE SECURITIES LLC                  /BD</td>\n",
       "      <td>0.950700</td>\n",
       "    </tr>\n",
       "    <tr>\n",
       "      <th>192</th>\n",
       "      <td>1 USA V ACQUISITION CORP</td>\n",
       "      <td>SAV ACQUISITION CORP</td>\n",
       "      <td>0.858988</td>\n",
       "    </tr>\n",
       "    <tr>\n",
       "      <th>345</th>\n",
       "      <td>1060 CAPITAL OPPORTUNITY FUND, LP</td>\n",
       "      <td>1060 CAPITAL OPPORTUNITY FUND, LTD</td>\n",
       "      <td>0.960713</td>\n",
       "    </tr>\n",
       "    <tr>\n",
       "      <th>347</th>\n",
       "      <td>1060 CAPITAL OPPORTUNITY FUND, LTD</td>\n",
       "      <td>1060 CAPITAL OPPORTUNITY FUND, LP</td>\n",
       "      <td>0.960713</td>\n",
       "    </tr>\n",
       "    <tr>\n",
       "      <th>409</th>\n",
       "      <td>11 MADISON INVESTOR II LLC</td>\n",
       "      <td>11 MADISON INVESTOR LLC</td>\n",
       "      <td>0.848684</td>\n",
       "    </tr>\n",
       "    <tr>\n",
       "      <th>411</th>\n",
       "      <td>11 MADISON INVESTOR LLC</td>\n",
       "      <td>11 MADISON INVESTOR II LLC</td>\n",
       "      <td>0.848684</td>\n",
       "    </tr>\n",
       "    <tr>\n",
       "      <th>430</th>\n",
       "      <td>110-112 THIRD AVE. GC II LLC</td>\n",
       "      <td>110-112 THIRD AVE. GC LLC</td>\n",
       "      <td>0.848484</td>\n",
       "    </tr>\n",
       "    <tr>\n",
       "      <th>432</th>\n",
       "      <td>110-112 THIRD AVE. GC LLC</td>\n",
       "      <td>110-112 THIRD AVE. GC II LLC</td>\n",
       "      <td>0.848484</td>\n",
       "    </tr>\n",
       "    <tr>\n",
       "      <th>457</th>\n",
       "      <td>1110 HIBISCUS REALTY GP, LLC</td>\n",
       "      <td>1110 HIBISCUS REALTY, LLC</td>\n",
       "      <td>0.868739</td>\n",
       "    </tr>\n",
       "    <tr>\n",
       "      <th>459</th>\n",
       "      <td>1110 HIBISCUS REALTY, LLC</td>\n",
       "      <td>1110 HIBISCUS REALTY GP, LLC</td>\n",
       "      <td>0.868739</td>\n",
       "    </tr>\n",
       "    <tr>\n",
       "      <th>491</th>\n",
       "      <td>11447 SECND STREET LLC</td>\n",
       "      <td>11447 SECOND STREET LLC</td>\n",
       "      <td>0.840252</td>\n",
       "    </tr>\n",
       "    <tr>\n",
       "      <th>493</th>\n",
       "      <td>11447 SECOND STREET LLC</td>\n",
       "      <td>11447 SECND STREET LLC</td>\n",
       "      <td>0.840252</td>\n",
       "    </tr>\n",
       "    <tr>\n",
       "      <th>515</th>\n",
       "      <td>11TH &amp; GRAND INVESTMENTS LLC</td>\n",
       "      <td>11TH &amp; GRAND INVESTMENTS PHASE II LLC</td>\n",
       "      <td>0.804588</td>\n",
       "    </tr>\n",
       "    <tr>\n",
       "      <th>517</th>\n",
       "      <td>11TH &amp; GRAND INVESTMENTS PHASE II LLC</td>\n",
       "      <td>11TH &amp; GRAND INVESTMENTS LLC</td>\n",
       "      <td>0.804588</td>\n",
       "    </tr>\n",
       "    <tr>\n",
       "      <th>550</th>\n",
       "      <td>12 TELECOM INTERNATIONAL INC</td>\n",
       "      <td>TELECOM INTERNATIONAL INC</td>\n",
       "      <td>0.822250</td>\n",
       "    </tr>\n",
       "  </tbody>\n",
       "</table>\n",
       "</div>"
      ],
      "text/plain": [
       "                                                       left_side  \\\n",
       "15   0210, LLC                                                     \n",
       "19   03 ENTERTAINMENT GROUP INC                                    \n",
       "168  1 800 MUTUALS ADVISOR SERIES                                  \n",
       "170  1 800 MUTUALS ADVISORS SERIES                                 \n",
       "179  1 FINANCIAL MARKETPLACE SECURITIES LLC                  /BD   \n",
       "181  1 FINANCIAL MARKETPLACE SECURITIES, LLC                       \n",
       "192  1 USA V ACQUISITION CORP                                      \n",
       "345  1060 CAPITAL OPPORTUNITY FUND, LP                             \n",
       "347  1060 CAPITAL OPPORTUNITY FUND, LTD                            \n",
       "409  11 MADISON INVESTOR II LLC                                    \n",
       "411  11 MADISON INVESTOR LLC                                       \n",
       "430  110-112 THIRD AVE. GC II LLC                                  \n",
       "432  110-112 THIRD AVE. GC LLC                                     \n",
       "457  1110 HIBISCUS REALTY GP, LLC                                  \n",
       "459  1110 HIBISCUS REALTY, LLC                                     \n",
       "491  11447 SECND STREET LLC                                        \n",
       "493  11447 SECOND STREET LLC                                       \n",
       "515  11TH & GRAND INVESTMENTS LLC                                  \n",
       "517  11TH & GRAND INVESTMENTS PHASE II LLC                         \n",
       "550  12 TELECOM INTERNATIONAL INC                                  \n",
       "\n",
       "                                                      right_side  similairity  \n",
       "15   90210 LLC                                                    0.853456     \n",
       "19   O3 ENTERTAINMENT GROUP INC                                   0.810585     \n",
       "168  1 800 MUTUALS ADVISORS SERIES                                0.947396     \n",
       "170  1 800 MUTUALS ADVISOR SERIES                                 0.947396     \n",
       "179  1 FINANCIAL MARKETPLACE SECURITIES, LLC                      0.950700     \n",
       "181  1 FINANCIAL MARKETPLACE SECURITIES LLC                  /BD  0.950700     \n",
       "192  SAV ACQUISITION CORP                                         0.858988     \n",
       "345  1060 CAPITAL OPPORTUNITY FUND, LTD                           0.960713     \n",
       "347  1060 CAPITAL OPPORTUNITY FUND, LP                            0.960713     \n",
       "409  11 MADISON INVESTOR LLC                                      0.848684     \n",
       "411  11 MADISON INVESTOR II LLC                                   0.848684     \n",
       "430  110-112 THIRD AVE. GC LLC                                    0.848484     \n",
       "432  110-112 THIRD AVE. GC II LLC                                 0.848484     \n",
       "457  1110 HIBISCUS REALTY, LLC                                    0.868739     \n",
       "459  1110 HIBISCUS REALTY GP, LLC                                 0.868739     \n",
       "491  11447 SECOND STREET LLC                                      0.840252     \n",
       "493  11447 SECND STREET LLC                                       0.840252     \n",
       "515  11TH & GRAND INVESTMENTS PHASE II LLC                        0.804588     \n",
       "517  11TH & GRAND INVESTMENTS LLC                                 0.804588     \n",
       "550  TELECOM INTERNATIONAL INC                                    0.822250     "
      ]
     },
     "execution_count": 14,
     "metadata": {},
     "output_type": "execute_result"
    }
   ],
   "source": [
    "matches_df = get_matches_df(matches, company_names, top=100000)\n",
    "matches_df = matches_df[matches_df['similairity'] < 0.99999] # Remove all exact matches\n",
    "matches_df.head(20)"
   ]
  },
  {
   "cell_type": "code",
   "execution_count": null,
   "metadata": {
    "collapsed": true
   },
   "outputs": [],
   "source": [
    "matches_df.head(20)"
   ]
  }
 ],
 "metadata": {
  "anaconda-cloud": {},
  "kernelspec": {
   "display_name": "Python [Anaconda3]",
   "language": "python",
   "name": "Python [Anaconda3]"
  },
  "language_info": {
   "codemirror_mode": {
    "name": "ipython",
    "version": 3
   },
   "file_extension": ".py",
   "mimetype": "text/x-python",
   "name": "python",
   "nbconvert_exporter": "python",
   "pygments_lexer": "ipython3",
   "version": "3.5.1"
  }
 },
 "nbformat": 4,
 "nbformat_minor": 1
}
