{
 "cells": [
  {
   "cell_type": "markdown",
   "metadata": {},
   "source": [
    "# Pobranie danych o apartamentach wakacyjnych w Chorwacji i nałożenie ich lokalizacji na Google Maps"
   ]
  },
  {
   "cell_type": "markdown",
   "metadata": {},
   "source": [
    "Pytania bez odpowiedzi :\n",
    "- Dla wybranego rejonu (obszaru w mieście), jak znaleźć apartamenty ?\n",
    "- Gdzie znajdują się interesujące apartamenty, których adresy mogę pobrać ze stron informacji turystycznej ?\n",
    "- Jakie są namiary (email, telefon) do interesujących apartamentów ?\n",
    "\n",
    "Zadanie :\n",
    "- Pobrać ze stron informacji turystycznej w Rovinj listę apartamentów i na podstawie podanych współrzędnych geograficznych (bądź adresu), stworzyć własną mapę w google maps z zaznaczonymi apartamentami."
   ]
  },
  {
   "cell_type": "markdown",
   "metadata": {},
   "source": [
    "### Wykorzystane :\n",
    "### - Pandas  https://en.wikipedia.org/wiki/Pandas_%28software%29\n",
    "### - Web scraping z Selenium https://en.wikipedia.org/wiki/Selenium_(software)\n",
    "### - Tworzenie pliku KML do importu do Google Maps https://pl.wikipedia.org/wiki/Keyhole_Markup_Language"
   ]
  },
  {
   "cell_type": "code",
   "execution_count": 1,
   "metadata": {
    "collapsed": true
   },
   "outputs": [],
   "source": [
    "# Prepare defaults (save all files locally) \n",
    "from selenium.webdriver.firefox.options import FirefoxProfile\n",
    "fxProfile = FirefoxProfile()\n",
    "#fxProfile.set_preference(\"browser.download.folderList\", 2)\n",
    "fxProfile.set_preference(\"browser.download.manager.showWhenStarting\", False)\n",
    "#fxProfile.set_preference(\"browser.download.dir\",\"c:\\\\tmp\")\n",
    "fxProfile.set_preference(\"browser.helperApps.alwaysAsk.force\", False)\n",
    "fxProfile.set_preference(\"browser.helperApps.neverAsk.saveToDisk\", \"application/octet-stream;application/msword;application/vnd.openxmlformats-officedocument.wordprocessingml.document;application/vnd.ms-excel;application/vnd.openxmlformats-officedocument.spreadsheetml.sheet\")\n",
    "fxProfile.set_preference('network.proxy.Kind','Direct')"
   ]
  },
  {
   "cell_type": "code",
   "execution_count": 2,
   "metadata": {
    "collapsed": false
   },
   "outputs": [],
   "source": [
    "from selenium import webdriver\n",
    "from selenium.webdriver.common.keys import Keys\n",
    "from selenium.webdriver.support.ui import Select"
   ]
  },
  {
   "cell_type": "code",
   "execution_count": 3,
   "metadata": {
    "collapsed": false
   },
   "outputs": [],
   "source": [
    "import os\n",
    "import time\n",
    "folder = 'C:\\\\Users\\\\mw\\\\Downloads\\\\'\n",
    "driver=webdriver.Firefox(firefox_profile=fxProfile)"
   ]
  },
  {
   "cell_type": "code",
   "execution_count": 145,
   "metadata": {
    "collapsed": false
   },
   "outputs": [
    {
     "name": "stdout",
     "output_type": "stream",
     "text": [
      "Starting...\n",
      "Processing %s http://www.tzgrovinj.hr/page/accommodation/private-accommodation/p/0\n",
      "Processing %s http://www.tzgrovinj.hr/page/accommodation/private-accommodation/p/1\n",
      "Processing %s http://www.tzgrovinj.hr/page/accommodation/private-accommodation/p/2\n",
      "Processing %s http://www.tzgrovinj.hr/page/accommodation/private-accommodation/p/3\n",
      "Processing %s http://www.tzgrovinj.hr/page/accommodation/private-accommodation/p/4\n",
      "Processing %s http://www.tzgrovinj.hr/page/accommodation/private-accommodation/p/5\n",
      "Processing %s http://www.tzgrovinj.hr/page/accommodation/private-accommodation/p/6\n",
      "Processing %s http://www.tzgrovinj.hr/page/accommodation/private-accommodation/p/7\n",
      "Processing %s http://www.tzgrovinj.hr/page/accommodation/private-accommodation/p/8\n",
      "Processing %s http://www.tzgrovinj.hr/page/accommodation/private-accommodation/p/9\n",
      "Processing %s http://www.tzgrovinj.hr/page/accommodation/private-accommodation/p/10\n",
      "Processing %s http://www.tzgrovinj.hr/page/accommodation/private-accommodation/p/11\n",
      "Processing %s http://www.tzgrovinj.hr/page/accommodation/private-accommodation/p/12\n",
      "Processing %s http://www.tzgrovinj.hr/page/accommodation/private-accommodation/p/13\n",
      "Processing %s http://www.tzgrovinj.hr/page/accommodation/private-accommodation/p/14\n",
      "Processing %s http://www.tzgrovinj.hr/page/accommodation/private-accommodation/p/15\n",
      "Processing %s http://www.tzgrovinj.hr/page/accommodation/private-accommodation/p/16\n",
      "Processing %s http://www.tzgrovinj.hr/page/accommodation/private-accommodation/p/17\n",
      "Processing %s http://www.tzgrovinj.hr/page/accommodation/private-accommodation/p/18\n",
      "Processing %s http://www.tzgrovinj.hr/page/accommodation/private-accommodation/p/19\n",
      "Processing %s http://www.tzgrovinj.hr/page/accommodation/private-accommodation/p/20\n",
      "Processing %s http://www.tzgrovinj.hr/page/accommodation/private-accommodation/p/21\n",
      "Processing %s http://www.tzgrovinj.hr/page/accommodation/private-accommodation/p/22\n",
      "Processing %s http://www.tzgrovinj.hr/page/accommodation/private-accommodation/p/23\n",
      "Processing %s http://www.tzgrovinj.hr/page/accommodation/private-accommodation/p/24\n",
      "Processing %s http://www.tzgrovinj.hr/page/accommodation/private-accommodation/p/25\n",
      "Processing %s http://www.tzgrovinj.hr/page/accommodation/private-accommodation/p/26\n",
      "Processing %s http://www.tzgrovinj.hr/page/accommodation/private-accommodation/p/27\n",
      "Processing %s http://www.tzgrovinj.hr/page/accommodation/private-accommodation/p/28\n",
      "Processing %s http://www.tzgrovinj.hr/page/accommodation/private-accommodation/p/29\n",
      "Processing %s http://www.tzgrovinj.hr/page/accommodation/private-accommodation/p/30\n",
      "Processing %s http://www.tzgrovinj.hr/page/accommodation/private-accommodation/p/31\n",
      "Completed.\n"
     ]
    }
   ],
   "source": [
    "appts = []\n",
    "print ('Starting...')\n",
    "for page in range(32) :\n",
    "    driver.get(\"http://www.tzgrovinj.hr/page/accommodation/private-accommodation/p/\"+str(page))\n",
    "    print(\"Processing %s\", (driver.current_url))\n",
    "    for i_accom in driver.find_elements_by_xpath('//div[@class=\\\"text-opis-kategorije accomodations\\\"]'):\n",
    "    #    print(i_accom.text)\n",
    "\n",
    "        accom = i_accom.find_element_by_xpath('.//h4').text\n",
    "        url = i_accom.find_element_by_xpath('.//p[1]/a[1]').get_property('href')\n",
    "        try :    \n",
    "            gps = i_accom.find_element_by_xpath('.//a[@class=\\\"iframe\\\"]').get_property('href')\n",
    "            gps = gps.split('/')[-2]+','+gps.split('/')[-1]\n",
    "        except : gps = ''\n",
    "        appts.append([accom, url, gps])\n",
    "print ('Completed.')"
   ]
  },
  {
   "cell_type": "code",
   "execution_count": 144,
   "metadata": {
    "collapsed": false
   },
   "outputs": [
    {
     "data": {
      "text/plain": [
       "[['Villa Laiki',\n",
       "  'http://www.tzgrovinj.hr/page/accommodation/private-accommodation/detail/13866',\n",
       "  '45.1062425418872,13.71516466140747'],\n",
       " ['Casa Caterina',\n",
       "  'http://www.tzgrovinj.hr/page/accommodation/private-accommodation/detail/15479',\n",
       "  ''],\n",
       " ['Nataša',\n",
       "  'http://www.tzgrovinj.hr/page/accommodation/private-accommodation/detail/3583',\n",
       "  '45.07391459332291,13.64652156829834'],\n",
       " ['Apartman Benjamin',\n",
       "  'http://www.tzgrovinj.hr/page/accommodation/private-accommodation/detail/16787',\n",
       "  '45.06472860036322,13.689265251159668'],\n",
       " ['Sara',\n",
       "  'http://www.tzgrovinj.hr/page/accommodation/private-accommodation/detail/3862',\n",
       "  ''],\n",
       " ['Alida Apartments & Rooms',\n",
       "  'http://www.tzgrovinj.hr/page/accommodation/private-accommodation/detail/16128',\n",
       "  '45.08883158585556,13.64178264144357'],\n",
       " ['Medar Nadia',\n",
       "  'http://www.tzgrovinj.hr/page/accommodation/private-accommodation/detail/15685',\n",
       "  ''],\n",
       " ['St. Eufemia',\n",
       "  'http://www.tzgrovinj.hr/page/accommodation/private-accommodation/detail/5110',\n",
       "  ''],\n",
       " ['Karin & Toni',\n",
       "  'http://www.tzgrovinj.hr/page/accommodation/private-accommodation/detail/3815',\n",
       "  '45.08171474800789,13.656454324755032'],\n",
       " ['Apartmani Sučić',\n",
       "  'http://www.tzgrovinj.hr/page/accommodation/private-accommodation/detail/16812',\n",
       "  '45.07554029606839,13.642045497927029'],\n",
       " ['Jurjević Iva',\n",
       "  'http://www.tzgrovinj.hr/page/accommodation/private-accommodation/detail/16047',\n",
       "  ''],\n",
       " ['Apartments Color',\n",
       "  'http://www.tzgrovinj.hr/page/accommodation/private-accommodation/detail/16280',\n",
       "  '45.11035146784248,13.710723996146044'],\n",
       " ['Vera',\n",
       "  'http://www.tzgrovinj.hr/page/accommodation/private-accommodation/detail/14089',\n",
       "  '45.078642220819646,13.655115365982056'],\n",
       " ['Apartman Driovier',\n",
       "  'http://www.tzgrovinj.hr/page/accommodation/private-accommodation/detail/16762',\n",
       "  ''],\n",
       " ['Cvitić',\n",
       "  'http://www.tzgrovinj.hr/page/accommodation/private-accommodation/detail/3521',\n",
       "  '45.07158094070473,13.653473854064941'],\n",
       " ['Anita',\n",
       "  'http://www.tzgrovinj.hr/page/accommodation/private-accommodation/detail/14002',\n",
       "  '45.07613557892742,13.655432939513048'],\n",
       " ['Nadija',\n",
       "  'http://www.tzgrovinj.hr/page/accommodation/private-accommodation/detail/3861',\n",
       "  '45.07470255840079,13.655834197998046'],\n",
       " ['Brdar',\n",
       "  'http://www.tzgrovinj.hr/page/accommodation/private-accommodation/detail/15035',\n",
       "  '45.085965041041845,13.64630806419882'],\n",
       " ['Maric',\n",
       "  'http://www.tzgrovinj.hr/page/accommodation/private-accommodation/detail/15504',\n",
       "  ''],\n",
       " ['Dušić',\n",
       "  'http://www.tzgrovinj.hr/page/accommodation/private-accommodation/detail/15526',\n",
       "  ''],\n",
       " ['Savo',\n",
       "  'http://www.tzgrovinj.hr/page/accommodation/private-accommodation/detail/13732',\n",
       "  '45.086263181311615,13.646821975708007'],\n",
       " ['Cerin',\n",
       "  'http://www.tzgrovinj.hr/page/accommodation/private-accommodation/detail/3519',\n",
       "  '45.06338588300569,13.689764142036438'],\n",
       " ['Tea',\n",
       "  'http://www.tzgrovinj.hr/page/accommodation/private-accommodation/detail/13768',\n",
       "  ''],\n",
       " ['Villa M',\n",
       "  'http://www.tzgrovinj.hr/page/accommodation/private-accommodation/detail/15393',\n",
       "  '45.0776519010478,13.640590667855577'],\n",
       " ['Martina',\n",
       "  'http://www.tzgrovinj.hr/page/accommodation/private-accommodation/detail/6151',\n",
       "  '45.08599619999999674746504751,13.64713440000000055363216233'],\n",
       " ['LA SUITE BLANCHE',\n",
       "  'http://www.tzgrovinj.hr/page/accommodation/private-accommodation/detail/11693',\n",
       "  '45.08186300868023,13.657095909102281'],\n",
       " ['Casa Bianca',\n",
       "  'http://www.tzgrovinj.hr/page/accommodation/private-accommodation/detail/15046',\n",
       "  '45.08389701722048,13.63228547579638'],\n",
       " ['Studio Apartman Anna',\n",
       "  'http://www.tzgrovinj.hr/page/accommodation/private-accommodation/detail/14917',\n",
       "  ''],\n",
       " ['Kamenita',\n",
       "  'http://www.tzgrovinj.hr/page/accommodation/private-accommodation/detail/3853',\n",
       "  '45.07678714088792,13.64115285871776'],\n",
       " ['Nadia',\n",
       "  'http://www.tzgrovinj.hr/page/accommodation/private-accommodation/detail/15398',\n",
       "  '']]"
      ]
     },
     "execution_count": 144,
     "metadata": {},
     "output_type": "execute_result"
    }
   ],
   "source": [
    "appts"
   ]
  },
  {
   "cell_type": "code",
   "execution_count": 191,
   "metadata": {
    "collapsed": true
   },
   "outputs": [],
   "source": [
    "f = open('Rovinj_appts.kml', 'w', encoding='utf-8')\n",
    "f.write(\"<?xml version='1.0' encoding='UTF-8'?>\\n\")\n",
    "f.write(\"<kml xmlns='http://earth.google.com/kml/2.1'>\\n\")\n",
    "f.write(\"<Document>\\n\")\n",
    "f.write(\"   <name>Rovinj_appts.kml</name>\\n\")\n",
    "for loc in appts:\n",
    "    if loc[2][:3]=='45.' :\n",
    "        g = loc[2].split(',')\n",
    "        g = g[1][:17] + ',' + g[0][:17]\n",
    "        f.write(\"   <Placemark>\\n\")\n",
    "        f.write(\"       <name>\" + loc[0].replace('&','&amp;') + \"</name>\\n\")\n",
    "    #    f.write(\"       <description>\" + loc[0] + \"<br><a href>\" + loc[1] + \"</description>\\n\")\n",
    "    #    locs = \"\"\n",
    "    #    for loc in row['Locs']:      \n",
    "    #        locs = locs + \",\".join(filter(None, loc)) + \"<br>\\n\" \n",
    "        f.write(\"       <description><![CDATA[\" + \n",
    "    #            str(row['smAddress']) + \"<br>\\n\" + \n",
    "                loc[1] +\n",
    "    #            \"<a href=\" + loc[1] + \">\" + loc[1] + \"</a>\" + \n",
    "                \"]]></description>\\n\")\n",
    "        f.write(\"       <Point>\\n\")\n",
    "        f.write(\"           <coordinates>\" + g + \"</coordinates>\\n\")\n",
    "        f.write(\"       </Point>\\n\")\n",
    "        f.write(\"   </Placemark>\\n\")\n",
    "f.write(\"</Document>\\n\")\n",
    "f.write(\"</kml>\\n\")\n",
    "f.close()"
   ]
  }
 ],
 "metadata": {
  "anaconda-cloud": {},
  "kernelspec": {
   "display_name": "Python [Anaconda3]",
   "language": "python",
   "name": "Python [Anaconda3]"
  },
  "language_info": {
   "codemirror_mode": {
    "name": "ipython",
    "version": 3
   },
   "file_extension": ".py",
   "mimetype": "text/x-python",
   "name": "python",
   "nbconvert_exporter": "python",
   "pygments_lexer": "ipython3",
   "version": "3.5.1"
  }
 },
 "nbformat": 4,
 "nbformat_minor": 0
}
